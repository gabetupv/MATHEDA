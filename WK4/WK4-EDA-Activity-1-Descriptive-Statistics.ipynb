{
 "cells": [
  {
   "cell_type": "markdown",
   "metadata": {},
   "source": [
    "# Jaguar and Panther Performance Analysis <hr style=\"border:2.5px solid #126782\">"
   ]
  },
  {
   "cell_type": "markdown",
   "metadata": {},
   "source": [
    "Name: **Gabriel Blaise Pusta** <br>\n",
    "Course: **CPE2A**"
   ]
  },
  {
   "cell_type": "code",
   "execution_count": 1,
   "metadata": {},
   "outputs": [],
   "source": [
    "import pandas as pd\n",
    "import numpy as np\n",
    "import matplotlib.pyplot as plt"
   ]
  },
  {
   "cell_type": "code",
   "execution_count": 2,
   "metadata": {},
   "outputs": [
    {
     "data": {
      "text/html": [
       "<div>\n",
       "<style scoped>\n",
       "    .dataframe tbody tr th:only-of-type {\n",
       "        vertical-align: middle;\n",
       "    }\n",
       "\n",
       "    .dataframe tbody tr th {\n",
       "        vertical-align: top;\n",
       "    }\n",
       "\n",
       "    .dataframe thead th {\n",
       "        text-align: right;\n",
       "    }\n",
       "</style>\n",
       "<table border=\"1\" class=\"dataframe\">\n",
       "  <thead>\n",
       "    <tr style=\"text-align: right;\">\n",
       "      <th></th>\n",
       "      <th>Lot_No</th>\n",
       "      <th>Jaguar</th>\n",
       "      <th>Panther</th>\n",
       "    </tr>\n",
       "  </thead>\n",
       "  <tbody>\n",
       "    <tr>\n",
       "      <th>0</th>\n",
       "      <td>1</td>\n",
       "      <td>997</td>\n",
       "      <td>1035</td>\n",
       "    </tr>\n",
       "    <tr>\n",
       "      <th>1</th>\n",
       "      <td>2</td>\n",
       "      <td>1153</td>\n",
       "      <td>975</td>\n",
       "    </tr>\n",
       "    <tr>\n",
       "      <th>2</th>\n",
       "      <td>3</td>\n",
       "      <td>920</td>\n",
       "      <td>982</td>\n",
       "    </tr>\n",
       "    <tr>\n",
       "      <th>3</th>\n",
       "      <td>4</td>\n",
       "      <td>1074</td>\n",
       "      <td>1038</td>\n",
       "    </tr>\n",
       "    <tr>\n",
       "      <th>4</th>\n",
       "      <td>5</td>\n",
       "      <td>1013</td>\n",
       "      <td>891</td>\n",
       "    </tr>\n",
       "    <tr>\n",
       "      <th>5</th>\n",
       "      <td>6</td>\n",
       "      <td>960</td>\n",
       "      <td>907</td>\n",
       "    </tr>\n",
       "    <tr>\n",
       "      <th>6</th>\n",
       "      <td>7</td>\n",
       "      <td>890</td>\n",
       "      <td>960</td>\n",
       "    </tr>\n",
       "    <tr>\n",
       "      <th>7</th>\n",
       "      <td>8</td>\n",
       "      <td>910</td>\n",
       "      <td>978</td>\n",
       "    </tr>\n",
       "    <tr>\n",
       "      <th>8</th>\n",
       "      <td>9</td>\n",
       "      <td>944</td>\n",
       "      <td>1041</td>\n",
       "    </tr>\n",
       "    <tr>\n",
       "      <th>9</th>\n",
       "      <td>10</td>\n",
       "      <td>1065</td>\n",
       "      <td>1026</td>\n",
       "    </tr>\n",
       "    <tr>\n",
       "      <th>10</th>\n",
       "      <td>11</td>\n",
       "      <td>1083</td>\n",
       "      <td>590</td>\n",
       "    </tr>\n",
       "    <tr>\n",
       "      <th>11</th>\n",
       "      <td>12</td>\n",
       "      <td>1820</td>\n",
       "      <td>990</td>\n",
       "    </tr>\n",
       "    <tr>\n",
       "      <th>12</th>\n",
       "      <td>13</td>\n",
       "      <td>859</td>\n",
       "      <td>1076</td>\n",
       "    </tr>\n",
       "    <tr>\n",
       "      <th>13</th>\n",
       "      <td>14</td>\n",
       "      <td>1043</td>\n",
       "      <td>1092</td>\n",
       "    </tr>\n",
       "    <tr>\n",
       "      <th>14</th>\n",
       "      <td>15</td>\n",
       "      <td>1710</td>\n",
       "      <td>1026</td>\n",
       "    </tr>\n",
       "    <tr>\n",
       "      <th>15</th>\n",
       "      <td>16</td>\n",
       "      <td>933</td>\n",
       "      <td>935</td>\n",
       "    </tr>\n",
       "    <tr>\n",
       "      <th>16</th>\n",
       "      <td>17</td>\n",
       "      <td>790</td>\n",
       "      <td>1710</td>\n",
       "    </tr>\n",
       "    <tr>\n",
       "      <th>17</th>\n",
       "      <td>18</td>\n",
       "      <td>999</td>\n",
       "      <td>946</td>\n",
       "    </tr>\n",
       "    <tr>\n",
       "      <th>18</th>\n",
       "      <td>19</td>\n",
       "      <td>1028</td>\n",
       "      <td>1073</td>\n",
       "    </tr>\n",
       "    <tr>\n",
       "      <th>19</th>\n",
       "      <td>20</td>\n",
       "      <td>976</td>\n",
       "      <td>986</td>\n",
       "    </tr>\n",
       "    <tr>\n",
       "      <th>20</th>\n",
       "      <td>21</td>\n",
       "      <td>1015</td>\n",
       "      <td>1078</td>\n",
       "    </tr>\n",
       "    <tr>\n",
       "      <th>21</th>\n",
       "      <td>22</td>\n",
       "      <td>932</td>\n",
       "      <td>969</td>\n",
       "    </tr>\n",
       "    <tr>\n",
       "      <th>22</th>\n",
       "      <td>23</td>\n",
       "      <td>957</td>\n",
       "      <td>1083</td>\n",
       "    </tr>\n",
       "    <tr>\n",
       "      <th>23</th>\n",
       "      <td>24</td>\n",
       "      <td>936</td>\n",
       "      <td>790</td>\n",
       "    </tr>\n",
       "    <tr>\n",
       "      <th>24</th>\n",
       "      <td>25</td>\n",
       "      <td>977</td>\n",
       "      <td>1007</td>\n",
       "    </tr>\n",
       "    <tr>\n",
       "      <th>25</th>\n",
       "      <td>26</td>\n",
       "      <td>1037</td>\n",
       "      <td>934</td>\n",
       "    </tr>\n",
       "    <tr>\n",
       "      <th>26</th>\n",
       "      <td>27</td>\n",
       "      <td>997</td>\n",
       "      <td>999</td>\n",
       "    </tr>\n",
       "    <tr>\n",
       "      <th>27</th>\n",
       "      <td>28</td>\n",
       "      <td>1730</td>\n",
       "      <td>1011</td>\n",
       "    </tr>\n",
       "    <tr>\n",
       "      <th>28</th>\n",
       "      <td>29</td>\n",
       "      <td>1046</td>\n",
       "      <td>942</td>\n",
       "    </tr>\n",
       "    <tr>\n",
       "      <th>29</th>\n",
       "      <td>30</td>\n",
       "      <td>1840</td>\n",
       "      <td>1090</td>\n",
       "    </tr>\n",
       "  </tbody>\n",
       "</table>\n",
       "</div>"
      ],
      "text/plain": [
       "    Lot_No  Jaguar  Panther\n",
       "0        1     997     1035\n",
       "1        2    1153      975\n",
       "2        3     920      982\n",
       "3        4    1074     1038\n",
       "4        5    1013      891\n",
       "5        6     960      907\n",
       "6        7     890      960\n",
       "7        8     910      978\n",
       "8        9     944     1041\n",
       "9       10    1065     1026\n",
       "10      11    1083      590\n",
       "11      12    1820      990\n",
       "12      13     859     1076\n",
       "13      14    1043     1092\n",
       "14      15    1710     1026\n",
       "15      16     933      935\n",
       "16      17     790     1710\n",
       "17      18     999      946\n",
       "18      19    1028     1073\n",
       "19      20     976      986\n",
       "20      21    1015     1078\n",
       "21      22     932      969\n",
       "22      23     957     1083\n",
       "23      24     936      790\n",
       "24      25     977     1007\n",
       "25      26    1037      934\n",
       "26      27     997      999\n",
       "27      28    1730     1011\n",
       "28      29    1046      942\n",
       "29      30    1840     1090"
      ]
     },
     "execution_count": 2,
     "metadata": {},
     "output_type": "execute_result"
    }
   ],
   "source": [
    "df = pd.read_csv('Jaguar-Panther-Data.csv')\n",
    "df"
   ]
  },
  {
   "cell_type": "markdown",
   "metadata": {},
   "source": [
    "## **JAGUAR** Statistics"
   ]
  },
  {
   "cell_type": "markdown",
   "metadata": {},
   "source": [
    "Jaguar's: \n",
    "* Mean\n",
    "* Median\n",
    "* Mode\n",
    "* Range"
   ]
  },
  {
   "cell_type": "code",
   "execution_count": 3,
   "metadata": {},
   "outputs": [
    {
     "name": "stdout",
     "output_type": "stream",
     "text": [
      "Mean for Jaguar = 1087.8\n",
      "Median for Jaguar = 998.0\n",
      "Mode for Jaguar = 0    997\n",
      "Name: Jaguar, dtype: int64\n",
      "Jaguar Range = 1050\n"
     ]
    }
   ],
   "source": [
    "jag_mean = df['Jaguar'].mean()\n",
    "print (\"Mean for Jaguar = \" + str(jag_mean))\n",
    "\n",
    "jag_median = df['Jaguar'].median()\n",
    "print (\"Median for Jaguar = \" + str(jag_median))\n",
    "\n",
    "jag_mode = df['Jaguar'].mode()\n",
    "print (\"Mode for Jaguar = \" + str(jag_mode))\n",
    "\n",
    "jag_range = df['Jaguar'].max() - df['Jaguar'].min()\n",
    "print(\"Jaguar Range = \" + str(jag_range))"
   ]
  },
  {
   "cell_type": "markdown",
   "metadata": {},
   "source": [
    "Jaguar's:\n",
    "\n",
    "* Variance\n",
    "* Standard Deviation\n",
    "* Coefficient of Variantion"
   ]
  },
  {
   "cell_type": "code",
   "execution_count": 4,
   "metadata": {},
   "outputs": [
    {
     "name": "stdout",
     "output_type": "stream",
     "text": [
      "Jaguar Variance = 80749.82\n",
      "Jaguar Standard Deviation = 284.17\n",
      "Jaguar Coefficient of Variation = 0.26\n"
     ]
    }
   ],
   "source": [
    "jag_var = df['Jaguar'].var()\n",
    "print(\"Jaguar Variance = \" + str(jag_var.round(2)))\n",
    "\n",
    "jag_std = df['Jaguar'].std()\n",
    "print(\"Jaguar Standard Deviation = \" + str(jag_std.round(2)))\n",
    "\n",
    "jag_cv = jag_std/jag_mean\n",
    "print(\"Jaguar Coefficient of Variation = \" + str(jag_cv.round(2)))\n"
   ]
  },
  {
   "cell_type": "markdown",
   "metadata": {},
   "source": [
    "### **JAGUAR BOXPLOT**"
   ]
  },
  {
   "cell_type": "code",
   "execution_count": 5,
   "metadata": {},
   "outputs": [
    {
     "data": {
      "image/png": "[encoded data removed]",
      "text/plain": [
       "<Figure size 640x480 with 1 Axes>"
      ]
     },
     "metadata": {},
     "output_type": "display_data"
    }
   ],
   "source": [
    "plt.boxplot(df['Jaguar'])\n",
    "plt.title(\"Jaguar Performance\")\n",
    "plt.xlabel(\"Jaguar\")\n",
    "plt.ylabel(\"Values\")\n",
    "plt.xticks([])\n",
    "plt.show()"
   ]
  },
  {
   "cell_type": "markdown",
   "metadata": {},
   "source": [
    "## **PANTHER** Statistics"
   ]
  },
  {
   "cell_type": "markdown",
   "metadata": {},
   "source": [
    "Panther's: \n",
    "* Mean\n",
    "* Median\n",
    "* Mode\n",
    "* Range"
   ]
  },
  {
   "cell_type": "code",
   "execution_count": 6,
   "metadata": {},
   "outputs": [
    {
     "name": "stdout",
     "output_type": "stream",
     "text": [
      "Mean for Panther = 1005.33\n",
      "Median for Panther = 994.5\n",
      "Mode for Panther = 0    1026\n",
      "Name: Panther, dtype: int64\n",
      "Panther Range = 1120\n"
     ]
    }
   ],
   "source": [
    "pan_mean = df['Panther'].mean()\n",
    "print (\"Mean for Panther = \" + str(pan_mean.round(2)))\n",
    "\n",
    "pan_median = df['Panther'].median()\n",
    "print (\"Median for Panther = \" + str(pan_median))\n",
    "\n",
    "pan_mode = df['Panther'].mode()\n",
    "print (\"Mode for Panther = \" + str(pan_mode))\n",
    "\n",
    "pan_range = df['Panther'].max() - df['Panther'].min()\n",
    "print(\"Panther Range = \" + str(pan_range))"
   ]
  },
  {
   "cell_type": "markdown",
   "metadata": {},
   "source": [
    "Panther's:\n",
    "\n",
    "* Variance\n",
    "* Standard Deviation\n",
    "* Coefficient of Variantion"
   ]
  },
  {
   "cell_type": "code",
   "execution_count": 7,
   "metadata": {},
   "outputs": [
    {
     "name": "stdout",
     "output_type": "stream",
     "text": [
      "Panther Variance = 27642.85\n",
      "Panther Standard Deviation = 166.26\n",
      "Panther Coefficient of Variation = 0.17\n"
     ]
    }
   ],
   "source": [
    "pan_var = df['Panther'].var()\n",
    "print(\"Panther Variance = \" + str(pan_var.round(2)))\n",
    "\n",
    "pan_std = df['Panther'].std()\n",
    "print(\"Panther Standard Deviation = \" + str(pan_std.round(2)))\n",
    "\n",
    "pan_cv = pan_std/pan_mean\n",
    "print(\"Panther Coefficient of Variation = \" + str(pan_cv.round(2)))\n"
   ]
  },
  {
   "cell_type": "markdown",
   "metadata": {},
   "source": [
    "### **PANTHER BOXPLOT**"
   ]
  },
  {
   "cell_type": "code",
   "execution_count": 8,
   "metadata": {},
   "outputs": [
    {
     "data": {
      "image/png": "[encoded data removed]",
      "text/plain": [
       "<Figure size 640x480 with 1 Axes>"
      ]
     },
     "metadata": {},
     "output_type": "display_data"
    }
   ],
   "source": [
    "plt.boxplot(df['Panther'])\n",
    "plt.title(\"Panther Performance\")\n",
    "plt.xlabel(\"Panther\")\n",
    "plt.ylabel(\"Values\")\n",
    "plt.xticks([])\n",
    "plt.show()"
   ]
  },
  {
   "cell_type": "markdown",
   "metadata": {},
   "source": [
    "# Hypothesis"
   ]
  },
  {
   "cell_type": "markdown",
   "metadata": {},
   "source": [
    "The performance of the Jaguar machine displays greater variation, as evidenced by its higher standard deviation and coefficient of variation. The values of the SD and the CV suggests that the Jaguar machine has a broader range of outcomes, potentially due to thier performance data."
   ]
  }
 ],
 "metadata": {
  "kernelspec": {
   "display_name": "Python 3",
   "language": "python",
   "name": "python3"
  },
  "language_info": {
   "codemirror_mode": {
    "name": "ipython",
    "version": 3
   },
   "file_extension": ".py",
   "mimetype": "text/x-python",
   "name": "python",
   "nbconvert_exporter": "python",
   "pygments_lexer": "ipython3",
   "version": "3.12.1"
  }
 },
 "nbformat": 4,
 "nbformat_minor": 2
}
